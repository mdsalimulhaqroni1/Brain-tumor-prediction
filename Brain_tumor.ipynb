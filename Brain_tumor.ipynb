{
  "nbformat": 4,
  "nbformat_minor": 0,
  "metadata": {
    "colab": {
      "provenance": [],
      "gpuType": "T4"
    },
    "kernelspec": {
      "name": "python3",
      "display_name": "Python 3"
    },
    "language_info": {
      "name": "python"
    },
    "accelerator": "GPU"
  },
  "cells": [
    {
      "cell_type": "code",
      "execution_count": 2,
      "metadata": {
        "id": "GyYRRgvhZOwD"
      },
      "outputs": [],
      "source": [
        "import os \n",
        "\n",
        "import numpy as np \n",
        "\n",
        "import tensorflow as tf \n",
        "\n",
        "from tensorflow.keras.preprocessing.image import ImageDataGenerator \n",
        "\n",
        "from tensorflow.keras.models import Sequential \n",
        "\n",
        "from tensorflow.keras.layers import Conv2D, MaxPooling2D, Dense, Flatten, Dropout "
      ]
    },
    {
      "cell_type": "code",
      "source": [
        "from zipfile import ZipFile\n",
        "data_dir = \"/content/drive/MyDrive/dataset/archive_4.zip\"\n",
        "with ZipFile(data_dir, 'r') as zip:\n",
        "  zip.extractall()\n",
        "  print('Done')"
      ],
      "metadata": {
        "colab": {
          "base_uri": "https://localhost:8080/"
        },
        "id": "kGILcTq6byeM",
        "outputId": "85fcd39b-c4e0-4665-99d4-12936eeceb30"
      },
      "execution_count": 3,
      "outputs": [
        {
          "output_type": "stream",
          "name": "stdout",
          "text": [
            "Done\n"
          ]
        }
      ]
    },
    {
      "cell_type": "code",
      "source": [
        "data_dir"
      ],
      "metadata": {
        "colab": {
          "base_uri": "https://localhost:8080/",
          "height": 35
        },
        "id": "39ksTrSkgdsL",
        "outputId": "b6f2edb7-9ab6-478e-cc69-2bc0cbd816ba"
      },
      "execution_count": 4,
      "outputs": [
        {
          "output_type": "execute_result",
          "data": {
            "text/plain": [
              "'/content/drive/MyDrive/dataset/archive_4.zip'"
            ],
            "application/vnd.google.colaboratory.intrinsic+json": {
              "type": "string"
            }
          },
          "metadata": {},
          "execution_count": 4
        }
      ]
    },
    {
      "cell_type": "code",
      "source": [
        "from google.colab import drive\n",
        "drive.mount('/content/BrainTumorMRIClassfication')"
      ],
      "metadata": {
        "colab": {
          "base_uri": "https://localhost:8080/"
        },
        "id": "AVbGUVM6dbYF",
        "outputId": "52352fc0-25c0-44b4-96c4-e9017fb255f8"
      },
      "execution_count": 5,
      "outputs": [
        {
          "output_type": "stream",
          "name": "stdout",
          "text": [
            "Mounted at /content/BrainTumorMRIClassfication\n"
          ]
        }
      ]
    },
    {
      "cell_type": "code",
      "source": [
        "data_dir = '/content/BrainTumorMRIClassfication'"
      ],
      "metadata": {
        "id": "Ux-tofMqiIxS"
      },
      "execution_count": 6,
      "outputs": []
    },
    {
      "cell_type": "code",
      "source": [
        "# Define the image dimensions and batch size \n",
        "\n",
        "img_height, img_width = 150, 150 \n",
        "\n",
        "batch_size = 32 "
      ],
      "metadata": {
        "id": "9oTC1I9CamjM"
      },
      "execution_count": 7,
      "outputs": []
    },
    {
      "cell_type": "code",
      "source": [
        "# Create an ImageDataGenerator for data augmentation \n",
        "\n",
        "train_datagen = ImageDataGenerator( \n",
        "\n",
        "    rescale=1./255, \n",
        "\n",
        "    rotation_range=20, \n",
        "\n",
        "    width_shift_range=0.2, \n",
        "\n",
        "    height_shift_range=0.2, \n",
        "\n",
        "    shear_range=0.2, \n",
        "\n",
        "    zoom_range=0.2, \n",
        "\n",
        "    horizontal_flip=True, \n",
        "\n",
        "    validation_split=0.2 \n",
        "\n",
        ") "
      ],
      "metadata": {
        "id": "JS3hfNwVauGN"
      },
      "execution_count": 8,
      "outputs": []
    },
    {
      "cell_type": "code",
      "source": [
        "# Create train and validation data generators \n",
        "\n",
        "train_generator = train_datagen.flow_from_directory( \n",
        "\n",
        "    data_dir, \n",
        "\n",
        "    target_size=(img_height, img_width), \n",
        "\n",
        "    batch_size=batch_size, \n",
        "\n",
        "    class_mode='binary', \n",
        "\n",
        "    subset='training' \n",
        "\n",
        ") \n",
        "\n",
        "  \n",
        "\n",
        "validation_generator = train_datagen.flow_from_directory( \n",
        "\n",
        "    data_dir, \n",
        "\n",
        "    target_size=(img_height, img_width), \n",
        "\n",
        "    batch_size=batch_size, \n",
        "\n",
        "    class_mode='binary', \n",
        "\n",
        "    subset='validation' \n",
        "\n",
        ") "
      ],
      "metadata": {
        "colab": {
          "base_uri": "https://localhost:8080/"
        },
        "id": "z7o_88QubDmU",
        "outputId": "39e9e168-9c8b-46e4-903f-085f0a1105e7"
      },
      "execution_count": 9,
      "outputs": [
        {
          "output_type": "stream",
          "name": "stdout",
          "text": [
            "Found 2746 images belonging to 4 classes.\n",
            "Found 686 images belonging to 4 classes.\n"
          ]
        }
      ]
    },
    {
      "cell_type": "code",
      "source": [
        "# Define the CNN model \n",
        "\n",
        "model = Sequential([ \n",
        "\n",
        "    Conv2D(32, (3, 3), activation='relu', input_shape=(img_height, img_width, 3)), \n",
        "\n",
        "    MaxPooling2D(2, 2), \n",
        "\n",
        "    Conv2D(64, (3, 3), activation='relu'), \n",
        "\n",
        "    MaxPooling2D(2, 2), \n",
        "\n",
        "    Conv2D(128, (3, 3), activation='relu'), \n",
        "\n",
        "    MaxPooling2D(2, 2), \n",
        "\n",
        "    Conv2D(128, (3, 3), activation='relu'), \n",
        "\n",
        "    MaxPooling2D(2, 2), \n",
        "\n",
        "    Flatten(), \n",
        "\n",
        "    Dropout(0.5), \n",
        "\n",
        "    Dense(512, activation='relu'), \n",
        "\n",
        "    Dense(1, activation='sigmoid') \n",
        "\n",
        "]) "
      ],
      "metadata": {
        "id": "4ARUMgDfiYks"
      },
      "execution_count": 10,
      "outputs": []
    },
    {
      "cell_type": "code",
      "source": [
        "# Compile the model \n",
        "\n",
        "model.compile(optimizer='adam', loss='binary_crossentropy', metrics=['accuracy']) "
      ],
      "metadata": {
        "id": "lBNSVc05iieS"
      },
      "execution_count": 11,
      "outputs": []
    },
    {
      "cell_type": "code",
      "source": [
        "# Train the model \n",
        "\n",
        "epochs = 10 #default 50\n",
        "\n",
        "history = model.fit( \n",
        "\n",
        "    train_generator, \n",
        "\n",
        "    steps_per_epoch=train_generator.samples // batch_size, \n",
        "\n",
        "    epochs=epochs, \n",
        "\n",
        "    validation_data=validation_generator, \n",
        "\n",
        "    validation_steps=validation_generator.samples // batch_size \n",
        "\n",
        ") "
      ],
      "metadata": {
        "colab": {
          "base_uri": "https://localhost:8080/"
        },
        "id": "3SvlcEc5o4Mk",
        "outputId": "da971cb9-d1af-4260-b01d-dbff9ad67cac"
      },
      "execution_count": 12,
      "outputs": [
        {
          "output_type": "stream",
          "name": "stdout",
          "text": [
            "Epoch 1/10\n",
            "85/85 [==============================] - 133s 2s/step - loss: -2403593984.0000 - accuracy: 0.0000e+00 - val_loss: -24899594240.0000 - val_accuracy: 0.0000e+00\n",
            "Epoch 2/10\n",
            "85/85 [==============================] - 52s 618ms/step - loss: -1565220798464.0000 - accuracy: 0.0000e+00 - val_loss: -7775878381568.0000 - val_accuracy: 0.0000e+00\n",
            "Epoch 3/10\n",
            "85/85 [==============================] - 53s 619ms/step - loss: -59845554208768.0000 - accuracy: 0.0000e+00 - val_loss: -189976251727872.0000 - val_accuracy: 0.0000e+00\n",
            "Epoch 4/10\n",
            "85/85 [==============================] - 55s 646ms/step - loss: -663597814382592.0000 - accuracy: 0.0000e+00 - val_loss: -1614577259249664.0000 - val_accuracy: 0.0000e+00\n",
            "Epoch 5/10\n",
            "85/85 [==============================] - 56s 656ms/step - loss: -3865630017060864.0000 - accuracy: 0.0000e+00 - val_loss: -7868842332127232.0000 - val_accuracy: 0.0000e+00\n",
            "Epoch 6/10\n",
            "85/85 [==============================] - 52s 617ms/step - loss: -15111125171437568.0000 - accuracy: 0.0000e+00 - val_loss: -27457066645848064.0000 - val_accuracy: 0.0000e+00\n",
            "Epoch 7/10\n",
            "85/85 [==============================] - 52s 617ms/step - loss: -45980566956277760.0000 - accuracy: 0.0000e+00 - val_loss: -76200158714396672.0000 - val_accuracy: 0.0000e+00\n",
            "Epoch 8/10\n",
            "85/85 [==============================] - 54s 631ms/step - loss: -117278677632286720.0000 - accuracy: 0.0000e+00 - val_loss: -180742909694312448.0000 - val_accuracy: 0.0000e+00\n",
            "Epoch 9/10\n",
            "85/85 [==============================] - 52s 613ms/step - loss: -257892582598639616.0000 - accuracy: 0.0000e+00 - val_loss: -382413614474067968.0000 - val_accuracy: 0.0000e+00\n",
            "Epoch 10/10\n",
            "85/85 [==============================] - 54s 644ms/step - loss: -514393870671282176.0000 - accuracy: 0.0000e+00 - val_loss: -727938407677820928.0000 - val_accuracy: 0.0000e+00\n"
          ]
        }
      ]
    },
    {
      "cell_type": "code",
      "source": [
        "final_accuracy = history.history['accuracy'][-1]\n",
        "print(\"Final Accuracy:\", final_accuracy)"
      ],
      "metadata": {
        "colab": {
          "base_uri": "https://localhost:8080/"
        },
        "id": "iVxL1c5_xPf_",
        "outputId": "9842e78c-dabe-446c-d86a-be8e016c7624"
      },
      "execution_count": 14,
      "outputs": [
        {
          "output_type": "stream",
          "name": "stdout",
          "text": [
            "Final Accuracy: 0.0\n"
          ]
        }
      ]
    },
    {
      "cell_type": "code",
      "source": [
        "# Save the model \n",
        "\n",
        "model.save(\"brain_tumor_classifier.h5\") "
      ],
      "metadata": {
        "id": "uuaHjnwfve3w"
      },
      "execution_count": 13,
      "outputs": []
    }
  ]
}